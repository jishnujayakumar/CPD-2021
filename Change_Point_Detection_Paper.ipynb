{
  "nbformat": 4,
  "nbformat_minor": 0,
  "metadata": {
    "colab": {
      "name": "Change-Point-Detection-Paper.ipynb",
      "provenance": [],
      "collapsed_sections": [],
      "authorship_tag": "ABX9TyOJ2jCIZ0YeQ2pQM1cj3UMU",
      "include_colab_link": true
    },
    "kernelspec": {
      "name": "python3",
      "display_name": "Python 3"
    },
    "accelerator": "GPU",
    "widgets": {
      "application/vnd.jupyter.widget-state+json": {
        "a02ce2401eb54ef0b7a76ed7338f689a": {
          "model_module": "@jupyter-widgets/controls",
          "model_name": "HBoxModel",
          "state": {
            "_view_name": "HBoxView",
            "_dom_classes": [],
            "_model_name": "HBoxModel",
            "_view_module": "@jupyter-widgets/controls",
            "_model_module_version": "1.5.0",
            "_view_count": null,
            "_view_module_version": "1.5.0",
            "box_style": "",
            "layout": "IPY_MODEL_904fec2a54234125a70670e1cce19922",
            "_model_module": "@jupyter-widgets/controls",
            "children": [
              "IPY_MODEL_b0b79880c7c34e969177ef7c9ef77394",
              "IPY_MODEL_c2534ef19dd4441a85b63c1a7f3ce878"
            ]
          }
        },
        "904fec2a54234125a70670e1cce19922": {
          "model_module": "@jupyter-widgets/base",
          "model_name": "LayoutModel",
          "state": {
            "_view_name": "LayoutView",
            "grid_template_rows": null,
            "right": null,
            "justify_content": null,
            "_view_module": "@jupyter-widgets/base",
            "overflow": null,
            "_model_module_version": "1.2.0",
            "_view_count": null,
            "flex_flow": null,
            "width": null,
            "min_width": null,
            "border": null,
            "align_items": null,
            "bottom": null,
            "_model_module": "@jupyter-widgets/base",
            "top": null,
            "grid_column": null,
            "overflow_y": null,
            "overflow_x": null,
            "grid_auto_flow": null,
            "grid_area": null,
            "grid_template_columns": null,
            "flex": null,
            "_model_name": "LayoutModel",
            "justify_items": null,
            "grid_row": null,
            "max_height": null,
            "align_content": null,
            "visibility": null,
            "align_self": null,
            "height": null,
            "min_height": null,
            "padding": null,
            "grid_auto_rows": null,
            "grid_gap": null,
            "max_width": null,
            "order": null,
            "_view_module_version": "1.2.0",
            "grid_template_areas": null,
            "object_position": null,
            "object_fit": null,
            "grid_auto_columns": null,
            "margin": null,
            "display": null,
            "left": null
          }
        },
        "b0b79880c7c34e969177ef7c9ef77394": {
          "model_module": "@jupyter-widgets/controls",
          "model_name": "FloatProgressModel",
          "state": {
            "_view_name": "ProgressView",
            "style": "IPY_MODEL_38e9ca1b31a74fa38d736eefee15ebcd",
            "_dom_classes": [],
            "description": "  0%",
            "_model_name": "FloatProgressModel",
            "bar_style": "danger",
            "max": 1,
            "_view_module": "@jupyter-widgets/controls",
            "_model_module_version": "1.5.0",
            "value": 0,
            "_view_count": null,
            "_view_module_version": "1.5.0",
            "orientation": "horizontal",
            "min": 0,
            "description_tooltip": null,
            "_model_module": "@jupyter-widgets/controls",
            "layout": "IPY_MODEL_6ad1fc0b86174cca8dc237efed254f90"
          }
        },
        "c2534ef19dd4441a85b63c1a7f3ce878": {
          "model_module": "@jupyter-widgets/controls",
          "model_name": "HTMLModel",
          "state": {
            "_view_name": "HTMLView",
            "style": "IPY_MODEL_ae305ffbf4cc49ee86f6e119a54bcfe6",
            "_dom_classes": [],
            "description": "",
            "_model_name": "HTMLModel",
            "placeholder": "​",
            "_view_module": "@jupyter-widgets/controls",
            "_model_module_version": "1.5.0",
            "value": " 0/1 [00:00&lt;?, ?it/s]",
            "_view_count": null,
            "_view_module_version": "1.5.0",
            "description_tooltip": null,
            "_model_module": "@jupyter-widgets/controls",
            "layout": "IPY_MODEL_a0e823d88806447ba0209b830dea024d"
          }
        },
        "38e9ca1b31a74fa38d736eefee15ebcd": {
          "model_module": "@jupyter-widgets/controls",
          "model_name": "ProgressStyleModel",
          "state": {
            "_view_name": "StyleView",
            "_model_name": "ProgressStyleModel",
            "description_width": "initial",
            "_view_module": "@jupyter-widgets/base",
            "_model_module_version": "1.5.0",
            "_view_count": null,
            "_view_module_version": "1.2.0",
            "bar_color": null,
            "_model_module": "@jupyter-widgets/controls"
          }
        },
        "6ad1fc0b86174cca8dc237efed254f90": {
          "model_module": "@jupyter-widgets/base",
          "model_name": "LayoutModel",
          "state": {
            "_view_name": "LayoutView",
            "grid_template_rows": null,
            "right": null,
            "justify_content": null,
            "_view_module": "@jupyter-widgets/base",
            "overflow": null,
            "_model_module_version": "1.2.0",
            "_view_count": null,
            "flex_flow": null,
            "width": null,
            "min_width": null,
            "border": null,
            "align_items": null,
            "bottom": null,
            "_model_module": "@jupyter-widgets/base",
            "top": null,
            "grid_column": null,
            "overflow_y": null,
            "overflow_x": null,
            "grid_auto_flow": null,
            "grid_area": null,
            "grid_template_columns": null,
            "flex": null,
            "_model_name": "LayoutModel",
            "justify_items": null,
            "grid_row": null,
            "max_height": null,
            "align_content": null,
            "visibility": null,
            "align_self": null,
            "height": null,
            "min_height": null,
            "padding": null,
            "grid_auto_rows": null,
            "grid_gap": null,
            "max_width": null,
            "order": null,
            "_view_module_version": "1.2.0",
            "grid_template_areas": null,
            "object_position": null,
            "object_fit": null,
            "grid_auto_columns": null,
            "margin": null,
            "display": null,
            "left": null
          }
        },
        "ae305ffbf4cc49ee86f6e119a54bcfe6": {
          "model_module": "@jupyter-widgets/controls",
          "model_name": "DescriptionStyleModel",
          "state": {
            "_view_name": "StyleView",
            "_model_name": "DescriptionStyleModel",
            "description_width": "",
            "_view_module": "@jupyter-widgets/base",
            "_model_module_version": "1.5.0",
            "_view_count": null,
            "_view_module_version": "1.2.0",
            "_model_module": "@jupyter-widgets/controls"
          }
        },
        "a0e823d88806447ba0209b830dea024d": {
          "model_module": "@jupyter-widgets/base",
          "model_name": "LayoutModel",
          "state": {
            "_view_name": "LayoutView",
            "grid_template_rows": null,
            "right": null,
            "justify_content": null,
            "_view_module": "@jupyter-widgets/base",
            "overflow": null,
            "_model_module_version": "1.2.0",
            "_view_count": null,
            "flex_flow": null,
            "width": null,
            "min_width": null,
            "border": null,
            "align_items": null,
            "bottom": null,
            "_model_module": "@jupyter-widgets/base",
            "top": null,
            "grid_column": null,
            "overflow_y": null,
            "overflow_x": null,
            "grid_auto_flow": null,
            "grid_area": null,
            "grid_template_columns": null,
            "flex": null,
            "_model_name": "LayoutModel",
            "justify_items": null,
            "grid_row": null,
            "max_height": null,
            "align_content": null,
            "visibility": null,
            "align_self": null,
            "height": null,
            "min_height": null,
            "padding": null,
            "grid_auto_rows": null,
            "grid_gap": null,
            "max_width": null,
            "order": null,
            "_view_module_version": "1.2.0",
            "grid_template_areas": null,
            "object_position": null,
            "object_fit": null,
            "grid_auto_columns": null,
            "margin": null,
            "display": null,
            "left": null
          }
        }
      }
    }
  },
  "cells": [
    {
      "cell_type": "markdown",
      "metadata": {
        "id": "view-in-github",
        "colab_type": "text"
      },
      "source": [
        "<a href=\"https://colab.research.google.com/github/jishnujayakumar/CPD-2021/blob/main/Change_Point_Detection_Paper.ipynb\" target=\"_parent\"><img src=\"https://colab.research.google.com/assets/colab-badge.svg\" alt=\"Open In Colab\"/></a>"
      ]
    },
    {
      "cell_type": "markdown",
      "metadata": {
        "id": "h6qN0xNeKAs_"
      },
      "source": [
        "**Helpful pointers**\n",
        "\n",
        "1.   https://mathinsight.org/definition/node_degree\n",
        "2.   cupy-cuda101==v9.0.0b1 - https://github.com/cupy/cupy/issues/4516\n",
        "\n",
        "Observations\n",
        "Numpy version takes 37.1 sec for 1 sampling process, CuPy version of the same takes 114 sec. Hence, going forward with numpy and numba.\n",
        "\n"
      ]
    },
    {
      "cell_type": "code",
      "metadata": {
        "colab": {
          "base_uri": "https://localhost:8080/"
        },
        "id": "lnRUzeYZiZyy",
        "outputId": "dae635f0-9e64-46a6-84d5-71a5927fd663"
      },
      "source": [
        "%pylab inline"
      ],
      "execution_count": 32,
      "outputs": [
        {
          "output_type": "stream",
          "text": [
            "Populating the interactive namespace from numpy and matplotlib\n"
          ],
          "name": "stdout"
        }
      ]
    },
    {
      "cell_type": "code",
      "metadata": {
        "colab": {
          "base_uri": "https://localhost:8080/",
          "height": 887
        },
        "id": "AWj8esvn_tSC",
        "outputId": "549a4dc3-9c00-47bf-ea9d-7e24ce9070ba"
      },
      "source": [
        "!pip install numpy numba tqdm tensorflow-gpu #dask"
      ],
      "execution_count": 33,
      "outputs": [
        {
          "output_type": "stream",
          "text": [
            "Requirement already satisfied: numpy in /usr/local/lib/python3.6/dist-packages (1.19.5)\n",
            "Requirement already satisfied: numba in /usr/local/lib/python3.6/dist-packages (0.51.2)\n",
            "Requirement already satisfied: tqdm in /usr/local/lib/python3.6/dist-packages (4.41.1)\n",
            "Collecting tensorflow-gpu\n",
            "\u001b[?25l  Downloading https://files.pythonhosted.org/packages/f0/6d/67169e8d8146f377bbfd71d6c108a0fce218411371ce41d440a7a5f5fb20/tensorflow_gpu-2.4.1-cp36-cp36m-manylinux2010_x86_64.whl (394.3MB)\n",
            "\u001b[K     |████████████████████████████████| 394.3MB 44kB/s \n",
            "\u001b[?25hRequirement already satisfied: llvmlite<0.35,>=0.34.0.dev0 in /usr/local/lib/python3.6/dist-packages (from numba) (0.34.0)\n",
            "Requirement already satisfied: setuptools in /usr/local/lib/python3.6/dist-packages (from numba) (53.0.0)\n",
            "Requirement already satisfied: h5py~=2.10.0 in /usr/local/lib/python3.6/dist-packages (from tensorflow-gpu) (2.10.0)\n",
            "Requirement already satisfied: flatbuffers~=1.12.0 in /usr/local/lib/python3.6/dist-packages (from tensorflow-gpu) (1.12)\n",
            "Requirement already satisfied: typing-extensions~=3.7.4 in /usr/local/lib/python3.6/dist-packages (from tensorflow-gpu) (3.7.4.3)\n",
            "Requirement already satisfied: protobuf>=3.9.2 in /usr/local/lib/python3.6/dist-packages (from tensorflow-gpu) (3.12.4)\n",
            "Requirement already satisfied: wheel~=0.35 in /usr/local/lib/python3.6/dist-packages (from tensorflow-gpu) (0.36.2)\n",
            "Requirement already satisfied: gast==0.3.3 in /usr/local/lib/python3.6/dist-packages (from tensorflow-gpu) (0.3.3)\n",
            "Requirement already satisfied: tensorflow-estimator<2.5.0,>=2.4.0 in /usr/local/lib/python3.6/dist-packages (from tensorflow-gpu) (2.4.0)\n",
            "Requirement already satisfied: keras-preprocessing~=1.1.2 in /usr/local/lib/python3.6/dist-packages (from tensorflow-gpu) (1.1.2)\n",
            "Requirement already satisfied: termcolor~=1.1.0 in /usr/local/lib/python3.6/dist-packages (from tensorflow-gpu) (1.1.0)\n",
            "Requirement already satisfied: six~=1.15.0 in /usr/local/lib/python3.6/dist-packages (from tensorflow-gpu) (1.15.0)\n",
            "Requirement already satisfied: tensorboard~=2.4 in /usr/local/lib/python3.6/dist-packages (from tensorflow-gpu) (2.4.1)\n",
            "Requirement already satisfied: absl-py~=0.10 in /usr/local/lib/python3.6/dist-packages (from tensorflow-gpu) (0.10.0)\n",
            "Requirement already satisfied: grpcio~=1.32.0 in /usr/local/lib/python3.6/dist-packages (from tensorflow-gpu) (1.32.0)\n",
            "Requirement already satisfied: astunparse~=1.6.3 in /usr/local/lib/python3.6/dist-packages (from tensorflow-gpu) (1.6.3)\n",
            "Requirement already satisfied: google-pasta~=0.2 in /usr/local/lib/python3.6/dist-packages (from tensorflow-gpu) (0.2.0)\n",
            "Requirement already satisfied: wrapt~=1.12.1 in /usr/local/lib/python3.6/dist-packages (from tensorflow-gpu) (1.12.1)\n",
            "Requirement already satisfied: opt-einsum~=3.3.0 in /usr/local/lib/python3.6/dist-packages (from tensorflow-gpu) (3.3.0)\n",
            "Requirement already satisfied: google-auth-oauthlib<0.5,>=0.4.1 in /usr/local/lib/python3.6/dist-packages (from tensorboard~=2.4->tensorflow-gpu) (0.4.2)\n",
            "Requirement already satisfied: google-auth<2,>=1.6.3 in /usr/local/lib/python3.6/dist-packages (from tensorboard~=2.4->tensorflow-gpu) (1.24.0)\n",
            "Requirement already satisfied: markdown>=2.6.8 in /usr/local/lib/python3.6/dist-packages (from tensorboard~=2.4->tensorflow-gpu) (3.3.3)\n",
            "Requirement already satisfied: tensorboard-plugin-wit>=1.6.0 in /usr/local/lib/python3.6/dist-packages (from tensorboard~=2.4->tensorflow-gpu) (1.8.0)\n",
            "Requirement already satisfied: requests<3,>=2.21.0 in /usr/local/lib/python3.6/dist-packages (from tensorboard~=2.4->tensorflow-gpu) (2.23.0)\n",
            "Requirement already satisfied: werkzeug>=0.11.15 in /usr/local/lib/python3.6/dist-packages (from tensorboard~=2.4->tensorflow-gpu) (1.0.1)\n",
            "Requirement already satisfied: requests-oauthlib>=0.7.0 in /usr/local/lib/python3.6/dist-packages (from google-auth-oauthlib<0.5,>=0.4.1->tensorboard~=2.4->tensorflow-gpu) (1.3.0)\n",
            "Requirement already satisfied: cachetools<5.0,>=2.0.0 in /usr/local/lib/python3.6/dist-packages (from google-auth<2,>=1.6.3->tensorboard~=2.4->tensorflow-gpu) (4.2.1)\n",
            "Requirement already satisfied: pyasn1-modules>=0.2.1 in /usr/local/lib/python3.6/dist-packages (from google-auth<2,>=1.6.3->tensorboard~=2.4->tensorflow-gpu) (0.2.8)\n",
            "Requirement already satisfied: rsa<5,>=3.1.4; python_version >= \"3.6\" in /usr/local/lib/python3.6/dist-packages (from google-auth<2,>=1.6.3->tensorboard~=2.4->tensorflow-gpu) (4.7)\n",
            "Requirement already satisfied: importlib-metadata; python_version < \"3.8\" in /usr/local/lib/python3.6/dist-packages (from markdown>=2.6.8->tensorboard~=2.4->tensorflow-gpu) (3.4.0)\n",
            "Requirement already satisfied: chardet<4,>=3.0.2 in /usr/local/lib/python3.6/dist-packages (from requests<3,>=2.21.0->tensorboard~=2.4->tensorflow-gpu) (3.0.4)\n",
            "Requirement already satisfied: idna<3,>=2.5 in /usr/local/lib/python3.6/dist-packages (from requests<3,>=2.21.0->tensorboard~=2.4->tensorflow-gpu) (2.10)\n",
            "Requirement already satisfied: urllib3!=1.25.0,!=1.25.1,<1.26,>=1.21.1 in /usr/local/lib/python3.6/dist-packages (from requests<3,>=2.21.0->tensorboard~=2.4->tensorflow-gpu) (1.24.3)\n",
            "Requirement already satisfied: certifi>=2017.4.17 in /usr/local/lib/python3.6/dist-packages (from requests<3,>=2.21.0->tensorboard~=2.4->tensorflow-gpu) (2020.12.5)\n",
            "Requirement already satisfied: oauthlib>=3.0.0 in /usr/local/lib/python3.6/dist-packages (from requests-oauthlib>=0.7.0->google-auth-oauthlib<0.5,>=0.4.1->tensorboard~=2.4->tensorflow-gpu) (3.1.0)\n",
            "Requirement already satisfied: pyasn1<0.5.0,>=0.4.6 in /usr/local/lib/python3.6/dist-packages (from pyasn1-modules>=0.2.1->google-auth<2,>=1.6.3->tensorboard~=2.4->tensorflow-gpu) (0.4.8)\n",
            "Requirement already satisfied: zipp>=0.5 in /usr/local/lib/python3.6/dist-packages (from importlib-metadata; python_version < \"3.8\"->markdown>=2.6.8->tensorboard~=2.4->tensorflow-gpu) (3.4.0)\n",
            "Installing collected packages: tensorflow-gpu\n",
            "Successfully installed tensorflow-gpu-2.4.1\n"
          ],
          "name": "stdout"
        },
        {
          "output_type": "display_data",
          "data": {
            "application/vnd.colab-display-data+json": {
              "pip_warning": {
                "packages": [
                  "tensorflow"
                ]
              }
            }
          },
          "metadata": {
            "tags": []
          }
        }
      ]
    },
    {
      "cell_type": "code",
      "metadata": {
        "colab": {
          "base_uri": "https://localhost:8080/"
        },
        "id": "IQNeC_mlH9e8",
        "outputId": "9ad939ef-72f6-4fdb-b82f-6fbf27de5247"
      },
      "source": [
        "!nvcc --version"
      ],
      "execution_count": 1,
      "outputs": [
        {
          "output_type": "stream",
          "text": [
            "nvcc: NVIDIA (R) Cuda compiler driver\n",
            "Copyright (c) 2005-2019 NVIDIA Corporation\n",
            "Built on Sun_Jul_28_19:07:16_PDT_2019\n",
            "Cuda compilation tools, release 10.1, V10.1.243\n"
          ],
          "name": "stdout"
        }
      ]
    },
    {
      "cell_type": "code",
      "metadata": {
        "colab": {
          "base_uri": "https://localhost:8080/"
        },
        "id": "lFWbbtbmD6Bz",
        "outputId": "1c314b41-bd3e-466c-f577-a267df98b1d4"
      },
      "source": [
        "!nvidia-smi"
      ],
      "execution_count": 2,
      "outputs": [
        {
          "output_type": "stream",
          "text": [
            "Fri Feb  5 15:48:17 2021       \n",
            "+-----------------------------------------------------------------------------+\n",
            "| NVIDIA-SMI 460.39       Driver Version: 418.67       CUDA Version: 10.1     |\n",
            "|-------------------------------+----------------------+----------------------+\n",
            "| GPU  Name        Persistence-M| Bus-Id        Disp.A | Volatile Uncorr. ECC |\n",
            "| Fan  Temp  Perf  Pwr:Usage/Cap|         Memory-Usage | GPU-Util  Compute M. |\n",
            "|                               |                      |               MIG M. |\n",
            "|===============================+======================+======================|\n",
            "|   0  Tesla T4            Off  | 00000000:00:04.0 Off |                    0 |\n",
            "| N/A   45C    P8     9W /  70W |      0MiB / 15079MiB |      0%      Default |\n",
            "|                               |                      |                 ERR! |\n",
            "+-------------------------------+----------------------+----------------------+\n",
            "                                                                               \n",
            "+-----------------------------------------------------------------------------+\n",
            "| Processes:                                                                  |\n",
            "|  GPU   GI   CI        PID   Type   Process name                  GPU Memory |\n",
            "|        ID   ID                                                   Usage      |\n",
            "|=============================================================================|\n",
            "|  No running processes found                                                 |\n",
            "+-----------------------------------------------------------------------------+\n"
          ],
          "name": "stdout"
        }
      ]
    },
    {
      "cell_type": "code",
      "metadata": {
        "id": "OiKZg3R_s-t5"
      },
      "source": [
        "# Import requried packages\n",
        "import numpy as np\n",
        "\n",
        "# import cupy as np\n",
        "# import numpy as npy\n",
        "\n",
        "from tqdm import tqdm_notebook as tqdm\n",
        "\n",
        "import dask # to allow parallel computation\n",
        "\n",
        "import scipy\n",
        "from scipy.stats import norm\n",
        "from scipy.sparse import csr_matrix\n",
        "from scipy.sparse.csgraph import minimum_spanning_tree\n",
        "\n",
        "from numba import jit, njit, prange, vectorize, float64\n",
        "\n",
        "import warnings \n",
        "warnings.filterwarnings('ignore')\n",
        "# warnings.resetwarnings() # Uncomment to turn on wanrings\n",
        "\n",
        "import tensorflow as tf\n",
        "tf.autograph.set_verbosity(0)"
      ],
      "execution_count": 3,
      "outputs": []
    },
    {
      "cell_type": "code",
      "metadata": {
        "id": "Ey9kgcLFj_EX"
      },
      "source": [
        "# TODO: create a new exception class for dist_not_found_error\n",
        "def raise_dist_not_found_error(dist_name):\n",
        "  raise Exception(\"Incorrect distribution name\")\n",
        "\n",
        "# Sample data points based on a particular distribution\n",
        "def sample_data(dist_name, n_samples):\n",
        "  # ADD more distributions as per need\n",
        "  if dist_name == \"normal\": \n",
        "    return np.random.normal(500, 20, n_samples)\n",
        "  else:\n",
        "    raise_dist_not_found_error(dist_name)\n",
        "\n",
        "def p1(t, n):\n",
        "  return (2.0 * t * (n-t)) / (n * (n-1))\n",
        "\n",
        "def p2(t, n):\n",
        "  return (4.0 * t * (t-1) * (n-t) * (n-t-1)) / (n * (n-1) * (n-2) * (n-3))\n",
        "\n",
        "# Expectation of RG(t)\n",
        "def E_RG(t, adj_mat):\n",
        "  n = get_num_vertices(adj_mat)\n",
        "  return p1(t, n) * get_num_edges(adj_mat)\n",
        "\n",
        "# Variance of RG(t)\n",
        "def Var_RG(t, adj_mat):\n",
        "  n = get_num_vertices(adj_mat)\n",
        "  p1t = p1(t, n)\n",
        "  p2t = p2(t, n)\n",
        "  G = get_num_edges(adj_mat)\n",
        "  first_term = p2t * G\n",
        "\n",
        "  Gi = 0\n",
        "\n",
        "  # TODO: Vectorize this by Gi=np.apply_along_axis(get_node_degree, 1, adj_mat) is very slow\n",
        "  for node_index in prange(n):\n",
        "    Gi += get_node_degree(adj_mat, node_index)\n",
        "\n",
        "  # Gi=np.apply_along_axis(np.count_nonzero, 1, adj_mat) #very slow\n",
        "\n",
        "  second_term = ((0.5* p1t) - p2t) * np.sum(Gi**2)\n",
        "  third_term = ( p2t - (p1t**2) ) * (G**2)\n",
        "  return first_term + second_term + third_term\n",
        "\n",
        "# Number of edges in graph: G => adj_mat\n",
        "def get_total_edges(adj_mat):\n",
        "  return np.count_nonzero(adj_mat)/2 # for undirected graph\n",
        "\n",
        "def get_num_edges(adj_mat):\n",
        "  # For sub graph\n",
        "  return np.count_nonzero(adj_mat)\n",
        "\n",
        "# Degree of node i\n",
        "def get_node_degree(adj_mat, node_index):\n",
        "  return np.count_nonzero(adj_mat[node_index])\n",
        "\n",
        "def get_num_vertices(adj_mat):\n",
        "  return adj_mat.shape[0]\n",
        "\n",
        "# R G (t)\n",
        "# is the number of edges in the graph G that connect observations from the “past”\n",
        "# (≤ t) to the “future” (> t).\n",
        "\n",
        "def RG(t, adj_mat):\n",
        "  # TODO: complete this from ref paper\n",
        "  # Get the sub graph/adj_matrix consisting of [:t+1,t:]\n",
        "  return get_num_edges(adj_mat[:t+1,t:])\n",
        "\n",
        "# Calculate zscore\n",
        "# TODO:vectorize this\n",
        "def zscore(arr, mean, var):\n",
        "  return ( (arr - mean) / var )\n",
        "\n",
        "\n",
        "\n",
        "#TF\n",
        "def bootstrap_tf(Dn, n):\n",
        "  # print(f\"\\ri:{i}\")\n",
        "\n",
        "\n",
        "  # Dn = t2np_array(Dn)\n",
        "  Dnew = resample(Dn, n)\n",
        "  \n",
        "  print(f\"Dnew: {tf.shape(Dnew)}\")\n",
        "\n",
        "  # n=tf.shape(Dnew)\n",
        "  # Calculate Scan Statisics for resampled Data\n",
        "  return get_scan_statistics(Dnew , n, 2 , n)\n",
        "\n",
        "def simulate(dist, num_simulations):\n",
        "  Dn_sizes = []\n",
        "  initial_samples = 150\n",
        "  bootstrap_runs = 10**2\n",
        "  for _ in tqdm(prange(num_simulations)):\n",
        "    # Simulation\n",
        "    X = sample_data(dist, initial_samples)\n",
        "    Dn_size = cpd(X, bootstrap_runs)\n",
        "    print(Dn_sizes, Dn_size)\n",
        "    Dn_sizes.append(Dn_size)\n",
        "  \n",
        "  return  np.array(Dn_sizes)\n",
        "\n",
        "@tf.function\n",
        "def run_bootstrap_graph(Dn, n):\n",
        "  result = tf.Variable(np.zeros([n], dtype=np.float32))\n",
        "  i = tf.constant(0, dtype=tf.int32)\n",
        "  while tf.less(i, 10):\n",
        "    result[i].assign(bootstrap_tf(Dn, n))  # Performance may require tuning here.\n",
        "    i += 1\n",
        "  return result\n",
        "\n",
        "# Change point detection mechanism\n",
        "def cpd(D_N0, bootstrap_runs):\n",
        "  Dn = D_N0\n",
        "  N0 = D_N0.size\n",
        "  while True:\n",
        "    # Draw new observation Dx\n",
        "    Dx = sample_data(dist, 1)[0]\n",
        "    \n",
        "    # Adding new observation to existing Data\n",
        "    Dn = np.append(Dn , Dx) \n",
        "    \n",
        "    #Number of observation in Dn\n",
        "    n = Dn.size\n",
        "\n",
        "    # print(f\"\\r {n}\")\n",
        "\n",
        "    # Get scan statistic\n",
        "    Z = get_scan_statistics(Dn, n, N0 , n)\n",
        "\n",
        "\n",
        "    # ================================ RUN GRAPH ====================================\n",
        "    # result = tf.Variable(np.zeros([bootstrap_runs], dtype=np.float16))\n",
        "\n",
        "    # @tf.function(experimental_relax_shapes=True)\n",
        "    # def run_graph():\n",
        "    #   i = tf.constant(0, dtype=tf.int32)\n",
        "    #   while tf.less(i, bootstrap_runs):\n",
        "    #     result[i].assign(bootstrap_tf(Dn))  # Performance may require tuning here.\n",
        "    #     i += 1\n",
        "\n",
        "    # run_graph()\n",
        "    # result = result.read_value()\n",
        "    # proto_tensor = tf.make_tensor_proto(result)  # convert `tensor result` to a proto tensor\n",
        "    # result = tf.make_ndarray(proto_tensor) \n",
        "    # # print(result, result.size)\n",
        "    # critZ = np.sort(result)[-1]\n",
        "    # ===============================================================================\n",
        "\n",
        "    result = run_bootstrap_graph(Dn, n)\n",
        "    result = result.read_value()\n",
        "    # proto_tensor = tf.make_tensor_proto(result)  # convert `tensor result` to a proto tensor\n",
        "    # result = tf.make_ndarray(proto_tensor) \n",
        "    # print(result, result.size)\n",
        "    critZ = np.sort(result)[-1]\n",
        "\n",
        "    # Stopping rule\n",
        "    if not (Z < critZ):\n",
        "      # print(Z >= critZ)\n",
        "      # print(f\"Z:{Z}, \\n critZ:{critZ}\")\n",
        "      break\n",
        "    \n",
        "  return Dn.size\n",
        "\n",
        "\n",
        "\n",
        "# TF\n",
        "def resample(D, n):\n",
        "  # print(D_idx)\n",
        "  # with tf.compat.v1.Session()  as sess:\n",
        "  #   n=tf.shape(D).eval()[0]\n",
        "  #   print(n)\n",
        "  sampled_indices=tf.experimental.numpy.random.randint(low=0, high=n, size=n, dtype=tf.int32)\n",
        "\n",
        "  # print(D)\n",
        "  # # Converting Tensor to TensorProto \n",
        "  # proto = tf.make_tensor_proto(D)   \n",
        "\n",
        "  # print(D)\n",
        "  # # Generating numpy array \n",
        "  # D = tf.make_ndarray(proto) \n",
        "  # print(D)\n",
        "\n",
        "  return tf.experimental.numpy.take(D, sampled_indices)\n",
        "\n",
        "# TF tensor to numpy array\n",
        "def t2np_array(tf_tensor):\n",
        "  # Converting Tensor to TensorProto \n",
        "  proto = tf.make_tensor_proto(tf_tensor) \n",
        "  # Generating numpy array \n",
        "  return tf.make_ndarray(proto) \n",
        "\n",
        "# Get adjacency matrix\n",
        "@tf.function\n",
        "def get_adjacency_matrix(arr):\n",
        "  # TODO: check this\n",
        "  # Calculate pairwise distance\n",
        "  a = tf.zeros([0, tf.shape(arr)[0]])\n",
        "  ret_arr=[]\n",
        "\n",
        "  for data_point in arr:\n",
        "    ret_arr.append(np.abs(arr - data_point))  \n",
        "\n",
        "  np.array(ret_arr)\n",
        "\n",
        "  # flattened_unpacked = tf.unstack(tf.reshape(arr, [-1]))\n",
        "  # for elem in flattened_unpacked:\n",
        "  #     ret_arr.append(tf.abs(flattened_unpacked - elem)) # absolute distance\n",
        "  # return tf.constant(ret_arr).numpy()\n",
        "\n",
        "def call_py(func_name, input):\n",
        "  return tf.py_function(func=func_name, inp=[input], Tout=tf.float32)\n",
        "\n",
        "def get_MST(adj_mat):\n",
        "  \"\"\"\n",
        "  Purpose: Generate Minimum Spanning Tree (MST)\n",
        "  Input: Graph adjacency matrix\n",
        "  Output: MST\n",
        "  \"\"\"\n",
        "\n",
        "  mst = minimum_spanning_tree(adj_mat)\n",
        "  # mst = minimum_spanning_tree(adj_mat.get())\n",
        "  return mst.toarray()\n",
        "\n",
        "# Calculate Scan Statistics value for given Dn\n",
        "def get_scan_statistics(Dn, n, n0, n1):\n",
        "\n",
        "  # Dn=t2np_array(Dn)\n",
        "\n",
        "  # pdist_mat = tf.py_function(func=get_adjacency_matrix, inp=[Dn], Tout=tf.float32)\n",
        "  pdist_mat = call_py(get_adjacency_matrix, Dn)\n",
        "\n",
        "  #Make this faster by using numba on GPU\n",
        "  mst = call_py(get_MST, x)\n",
        "\n",
        "  # mst = np.asarray(get_MST(pdist_mat)) # Move to GPU from host\n",
        "\n",
        "  # print(mst.get_shape())\n",
        "\n",
        "  t=10\n",
        "\n",
        "  # calculate zcores for RG\n",
        "  RG_vec=RG(t, mst)\n",
        "  mean=E_RG(t, mst)\n",
        "  var=Var_RG(t, mst)\n",
        "  zRG = zscore(RG_vec,mean,var)\n",
        "\n",
        "  # Maximum of all Z values between n0 and n1\n",
        "  return np.amax(zRG)\n",
        "\n",
        "# Re sample data based on index (perform random func on index)\n",
        "# def resample(D):\n",
        "#   sampled_indices = np.random.randint(D.size, size=D.size)\n",
        "#   return np.take(D, sampled_indices)"
      ],
      "execution_count": 48,
      "outputs": []
    },
    {
      "cell_type": "code",
      "metadata": {
        "colab": {
          "base_uri": "https://localhost:8080/",
          "height": 1000,
          "referenced_widgets": [
            "a02ce2401eb54ef0b7a76ed7338f689a",
            "904fec2a54234125a70670e1cce19922",
            "b0b79880c7c34e969177ef7c9ef77394",
            "c2534ef19dd4441a85b63c1a7f3ce878",
            "38e9ca1b31a74fa38d736eefee15ebcd",
            "6ad1fc0b86174cca8dc237efed254f90",
            "ae305ffbf4cc49ee86f6e119a54bcfe6",
            "a0e823d88806447ba0209b830dea024d"
          ]
        },
        "id": "lP4SDMrW_efm",
        "outputId": "3195e75c-684e-46d4-cb3c-e280d32e6507"
      },
      "source": [
        "# Select seed value\n",
        "seed_value=1\n",
        " \n",
        "# Set seed for random number generation\n",
        "np.random.seed(seed_value)\n",
        " \n",
        "# Test on normal distribution for now\n",
        "dist=\"normal\"\n",
        " \n",
        "# %timeit Dn_sizes = simulate(dist, 100)\n",
        " \n",
        "Dn_sizes = []\n",
        "initial_samples = 150\n",
        "num_simulations = 1\n",
        "bootstrap_runs = 10**2\n",
        " \n",
        "for _ in tqdm(range(num_simulations)):\n",
        "  # Simulation\n",
        "  X = sample_data(dist, initial_samples)\n",
        "  print(cpd(X, bootstrap_runs))\n",
        "#   Dn_size = cpd(X, bootstrap_runs)\n",
        "#   Dn_sizes.append(Dn_size)\n",
        " \n",
        "# print(Dn_sizes, Dn_size)\n",
        "# Dn_sizes = np.array(Dn_sizes)\n",
        "# np.mean(Dn_sizes)\n",
        " \n",
        "# ====================== To run simulations in parallel =====================================\n",
        "# sim_results = tf.Variable(np.zeros([num_simulations], dtype=np.float16))\n",
        " \n",
        "# @tf.function\n",
        "# def run_simulation_graph():\n",
        "#   i = tf.constant(0, dtype=tf.int32)\n",
        "#   while tf.less(i, num_simulations):\n",
        "#     X = sample_data(dist, initial_samples)\n",
        "#     sim_results[i].assign(cpd(X))  # Performance may require tuning here.\n",
        "#     i += 1\n",
        " \n",
        "# sim_results=run_simulation_graph()\n",
        "# sim_results = sim_results.read_value()\n",
        "# proto_tensor = tf.make_tensor_proto(sim_results)  # convert `tensor result` to a proto tensor\n",
        "# sim_results = tf.make_ndarray(proto_tensor) \n",
        "# np.mean(sim_results)"
      ],
      "execution_count": 49,
      "outputs": [
        {
          "output_type": "display_data",
          "data": {
            "application/vnd.jupyter.widget-view+json": {
              "model_id": "a02ce2401eb54ef0b7a76ed7338f689a",
              "version_minor": 0,
              "version_major": 2
            },
            "text/plain": [
              "HBox(children=(FloatProgress(value=0.0, max=1.0), HTML(value='')))"
            ]
          },
          "metadata": {
            "tags": []
          }
        },
        {
          "output_type": "stream",
          "text": [
            "\n"
          ],
          "name": "stdout"
        },
        {
          "output_type": "error",
          "ename": "UnimplementedError",
          "evalue": "ignored",
          "traceback": [
            "\u001b[0;31m---------------------------------------------------------------------------\u001b[0m",
            "\u001b[0;31mUnimplementedError\u001b[0m                        Traceback (most recent call last)",
            "\u001b[0;32m<ipython-input-49-515053415399>\u001b[0m in \u001b[0;36m<module>\u001b[0;34m()\u001b[0m\n\u001b[1;32m     18\u001b[0m   \u001b[0;31m# Simulation\u001b[0m\u001b[0;34m\u001b[0m\u001b[0;34m\u001b[0m\u001b[0;34m\u001b[0m\u001b[0m\n\u001b[1;32m     19\u001b[0m   \u001b[0mX\u001b[0m \u001b[0;34m=\u001b[0m \u001b[0msample_data\u001b[0m\u001b[0;34m(\u001b[0m\u001b[0mdist\u001b[0m\u001b[0;34m,\u001b[0m \u001b[0minitial_samples\u001b[0m\u001b[0;34m)\u001b[0m\u001b[0;34m\u001b[0m\u001b[0;34m\u001b[0m\u001b[0m\n\u001b[0;32m---> 20\u001b[0;31m   \u001b[0mprint\u001b[0m\u001b[0;34m(\u001b[0m\u001b[0mcpd\u001b[0m\u001b[0;34m(\u001b[0m\u001b[0mX\u001b[0m\u001b[0;34m,\u001b[0m \u001b[0mbootstrap_runs\u001b[0m\u001b[0;34m)\u001b[0m\u001b[0;34m)\u001b[0m\u001b[0;34m\u001b[0m\u001b[0;34m\u001b[0m\u001b[0m\n\u001b[0m\u001b[1;32m     21\u001b[0m \u001b[0;31m#   Dn_size = cpd(X, bootstrap_runs)\u001b[0m\u001b[0;34m\u001b[0m\u001b[0;34m\u001b[0m\u001b[0;34m\u001b[0m\u001b[0m\n\u001b[1;32m     22\u001b[0m \u001b[0;31m#   Dn_sizes.append(Dn_size)\u001b[0m\u001b[0;34m\u001b[0m\u001b[0;34m\u001b[0m\u001b[0;34m\u001b[0m\u001b[0m\n",
            "\u001b[0;32m<ipython-input-48-2f47a97b9acd>\u001b[0m in \u001b[0;36mcpd\u001b[0;34m(D_N0, bootstrap_runs)\u001b[0m\n\u001b[1;32m    126\u001b[0m \u001b[0;34m\u001b[0m\u001b[0m\n\u001b[1;32m    127\u001b[0m     \u001b[0;31m# Get scan statistic\u001b[0m\u001b[0;34m\u001b[0m\u001b[0;34m\u001b[0m\u001b[0;34m\u001b[0m\u001b[0m\n\u001b[0;32m--> 128\u001b[0;31m     \u001b[0mZ\u001b[0m \u001b[0;34m=\u001b[0m \u001b[0mget_scan_statistics\u001b[0m\u001b[0;34m(\u001b[0m\u001b[0mDn\u001b[0m\u001b[0;34m,\u001b[0m \u001b[0mn\u001b[0m\u001b[0;34m,\u001b[0m \u001b[0mN0\u001b[0m \u001b[0;34m,\u001b[0m \u001b[0mn\u001b[0m\u001b[0;34m)\u001b[0m\u001b[0;34m\u001b[0m\u001b[0;34m\u001b[0m\u001b[0m\n\u001b[0m\u001b[1;32m    129\u001b[0m \u001b[0;34m\u001b[0m\u001b[0m\n\u001b[1;32m    130\u001b[0m \u001b[0;34m\u001b[0m\u001b[0m\n",
            "\u001b[0;32m<ipython-input-48-2f47a97b9acd>\u001b[0m in \u001b[0;36mget_scan_statistics\u001b[0;34m(Dn, n, n0, n1)\u001b[0m\n\u001b[1;32m    228\u001b[0m \u001b[0;34m\u001b[0m\u001b[0m\n\u001b[1;32m    229\u001b[0m   \u001b[0;31m# pdist_mat = tf.py_function(func=get_adjacency_matrix, inp=[Dn], Tout=tf.float32)\u001b[0m\u001b[0;34m\u001b[0m\u001b[0;34m\u001b[0m\u001b[0;34m\u001b[0m\u001b[0m\n\u001b[0;32m--> 230\u001b[0;31m   \u001b[0mpdist_mat\u001b[0m \u001b[0;34m=\u001b[0m \u001b[0mcall_py\u001b[0m\u001b[0;34m(\u001b[0m\u001b[0mget_adjacency_matrix\u001b[0m\u001b[0;34m,\u001b[0m \u001b[0mDn\u001b[0m\u001b[0;34m)\u001b[0m\u001b[0;34m\u001b[0m\u001b[0;34m\u001b[0m\u001b[0m\n\u001b[0m\u001b[1;32m    231\u001b[0m \u001b[0;34m\u001b[0m\u001b[0m\n\u001b[1;32m    232\u001b[0m   \u001b[0;31m#Make this faster by using numba on GPU\u001b[0m\u001b[0;34m\u001b[0m\u001b[0;34m\u001b[0m\u001b[0;34m\u001b[0m\u001b[0m\n",
            "\u001b[0;32m<ipython-input-48-2f47a97b9acd>\u001b[0m in \u001b[0;36mcall_py\u001b[0;34m(func_name, input)\u001b[0m\n\u001b[1;32m    209\u001b[0m \u001b[0;34m\u001b[0m\u001b[0m\n\u001b[1;32m    210\u001b[0m \u001b[0;32mdef\u001b[0m \u001b[0mcall_py\u001b[0m\u001b[0;34m(\u001b[0m\u001b[0mfunc_name\u001b[0m\u001b[0;34m,\u001b[0m \u001b[0minput\u001b[0m\u001b[0;34m)\u001b[0m\u001b[0;34m:\u001b[0m\u001b[0;34m\u001b[0m\u001b[0;34m\u001b[0m\u001b[0m\n\u001b[0;32m--> 211\u001b[0;31m   \u001b[0;32mreturn\u001b[0m \u001b[0mtf\u001b[0m\u001b[0;34m.\u001b[0m\u001b[0mpy_function\u001b[0m\u001b[0;34m(\u001b[0m\u001b[0mfunc\u001b[0m\u001b[0;34m=\u001b[0m\u001b[0mfunc_name\u001b[0m\u001b[0;34m,\u001b[0m \u001b[0minp\u001b[0m\u001b[0;34m=\u001b[0m\u001b[0;34m[\u001b[0m\u001b[0minput\u001b[0m\u001b[0;34m]\u001b[0m\u001b[0;34m,\u001b[0m \u001b[0mTout\u001b[0m\u001b[0;34m=\u001b[0m\u001b[0mtf\u001b[0m\u001b[0;34m.\u001b[0m\u001b[0mfloat32\u001b[0m\u001b[0;34m)\u001b[0m\u001b[0;34m\u001b[0m\u001b[0;34m\u001b[0m\u001b[0m\n\u001b[0m\u001b[1;32m    212\u001b[0m \u001b[0;34m\u001b[0m\u001b[0m\n\u001b[1;32m    213\u001b[0m \u001b[0;32mdef\u001b[0m \u001b[0mget_MST\u001b[0m\u001b[0;34m(\u001b[0m\u001b[0madj_mat\u001b[0m\u001b[0;34m)\u001b[0m\u001b[0;34m:\u001b[0m\u001b[0;34m\u001b[0m\u001b[0;34m\u001b[0m\u001b[0m\n",
            "\u001b[0;32m/usr/local/lib/python3.6/dist-packages/tensorflow/python/util/dispatch.py\u001b[0m in \u001b[0;36mwrapper\u001b[0;34m(*args, **kwargs)\u001b[0m\n\u001b[1;32m    199\u001b[0m     \u001b[0;34m\"\"\"Call target, and fall back on dispatchers if there is a TypeError.\"\"\"\u001b[0m\u001b[0;34m\u001b[0m\u001b[0;34m\u001b[0m\u001b[0m\n\u001b[1;32m    200\u001b[0m     \u001b[0;32mtry\u001b[0m\u001b[0;34m:\u001b[0m\u001b[0;34m\u001b[0m\u001b[0;34m\u001b[0m\u001b[0m\n\u001b[0;32m--> 201\u001b[0;31m       \u001b[0;32mreturn\u001b[0m \u001b[0mtarget\u001b[0m\u001b[0;34m(\u001b[0m\u001b[0;34m*\u001b[0m\u001b[0margs\u001b[0m\u001b[0;34m,\u001b[0m \u001b[0;34m**\u001b[0m\u001b[0mkwargs\u001b[0m\u001b[0;34m)\u001b[0m\u001b[0;34m\u001b[0m\u001b[0;34m\u001b[0m\u001b[0m\n\u001b[0m\u001b[1;32m    202\u001b[0m     \u001b[0;32mexcept\u001b[0m \u001b[0;34m(\u001b[0m\u001b[0mTypeError\u001b[0m\u001b[0;34m,\u001b[0m \u001b[0mValueError\u001b[0m\u001b[0;34m)\u001b[0m\u001b[0;34m:\u001b[0m\u001b[0;34m\u001b[0m\u001b[0;34m\u001b[0m\u001b[0m\n\u001b[1;32m    203\u001b[0m       \u001b[0;31m# Note: convert_to_eager_tensor currently raises a ValueError, not a\u001b[0m\u001b[0;34m\u001b[0m\u001b[0;34m\u001b[0m\u001b[0;34m\u001b[0m\u001b[0m\n",
            "\u001b[0;32m/usr/local/lib/python3.6/dist-packages/tensorflow/python/ops/script_ops.py\u001b[0m in \u001b[0;36meager_py_func\u001b[0;34m(func, inp, Tout, name)\u001b[0m\n\u001b[1;32m    511\u001b[0m   \"\"\"\n\u001b[1;32m    512\u001b[0m   return _eager_py_func(\n\u001b[0;32m--> 513\u001b[0;31m       func=func, inp=inp, Tout=Tout, name=name, use_tape_cache=True)\n\u001b[0m\u001b[1;32m    514\u001b[0m \u001b[0;34m\u001b[0m\u001b[0m\n\u001b[1;32m    515\u001b[0m \u001b[0;34m\u001b[0m\u001b[0m\n",
            "\u001b[0;32m/usr/local/lib/python3.6/dist-packages/tensorflow/python/ops/script_ops.py\u001b[0m in \u001b[0;36m_eager_py_func\u001b[0;34m(func, inp, Tout, name, use_tape_cache)\u001b[0m\n\u001b[1;32m    418\u001b[0m           \u001b[0meager\u001b[0m\u001b[0;34m=\u001b[0m\u001b[0;32mTrue\u001b[0m\u001b[0;34m,\u001b[0m\u001b[0;34m\u001b[0m\u001b[0;34m\u001b[0m\u001b[0m\n\u001b[1;32m    419\u001b[0m           \u001b[0mname\u001b[0m\u001b[0;34m=\u001b[0m\u001b[0mname\u001b[0m\u001b[0;34m,\u001b[0m\u001b[0;34m\u001b[0m\u001b[0;34m\u001b[0m\u001b[0m\n\u001b[0;32m--> 420\u001b[0;31m           use_tape_cache=use_tape_cache)\n\u001b[0m\u001b[1;32m    421\u001b[0m \u001b[0;34m\u001b[0m\u001b[0m\n\u001b[1;32m    422\u001b[0m   return _internal_py_func(\n",
            "\u001b[0;32m/usr/local/lib/python3.6/dist-packages/tensorflow/python/ops/script_ops.py\u001b[0m in \u001b[0;36m_internal_py_func\u001b[0;34m(func, inp, Tout, stateful, eager, is_grad_func, name, use_tape_cache)\u001b[0m\n\u001b[1;32m    346\u001b[0m         \u001b[0mis_async\u001b[0m\u001b[0;34m=\u001b[0m\u001b[0mcontext\u001b[0m\u001b[0;34m.\u001b[0m\u001b[0mis_async\u001b[0m\u001b[0;34m(\u001b[0m\u001b[0;34m)\u001b[0m\u001b[0;34m,\u001b[0m\u001b[0;34m\u001b[0m\u001b[0;34m\u001b[0m\u001b[0m\n\u001b[1;32m    347\u001b[0m         \u001b[0mTout\u001b[0m\u001b[0;34m=\u001b[0m\u001b[0mTout\u001b[0m\u001b[0;34m,\u001b[0m\u001b[0;34m\u001b[0m\u001b[0;34m\u001b[0m\u001b[0m\n\u001b[0;32m--> 348\u001b[0;31m         name=name)\n\u001b[0m\u001b[1;32m    349\u001b[0m   \u001b[0;32melse\u001b[0m\u001b[0;34m:\u001b[0m\u001b[0;34m\u001b[0m\u001b[0;34m\u001b[0m\u001b[0m\n\u001b[1;32m    350\u001b[0m     \u001b[0;32mif\u001b[0m \u001b[0mstateful\u001b[0m\u001b[0;34m:\u001b[0m\u001b[0;34m\u001b[0m\u001b[0;34m\u001b[0m\u001b[0m\n",
            "\u001b[0;32m/usr/local/lib/python3.6/dist-packages/tensorflow/python/ops/gen_script_ops.py\u001b[0m in \u001b[0;36meager_py_func\u001b[0;34m(input, token, Tout, is_async, name)\u001b[0m\n\u001b[1;32m     47\u001b[0m       \u001b[0;32mreturn\u001b[0m \u001b[0m_result\u001b[0m\u001b[0;34m\u001b[0m\u001b[0;34m\u001b[0m\u001b[0m\n\u001b[1;32m     48\u001b[0m     \u001b[0;32mexcept\u001b[0m \u001b[0m_core\u001b[0m\u001b[0;34m.\u001b[0m\u001b[0m_NotOkStatusException\u001b[0m \u001b[0;32mas\u001b[0m \u001b[0me\u001b[0m\u001b[0;34m:\u001b[0m\u001b[0;34m\u001b[0m\u001b[0;34m\u001b[0m\u001b[0m\n\u001b[0;32m---> 49\u001b[0;31m       \u001b[0m_ops\u001b[0m\u001b[0;34m.\u001b[0m\u001b[0mraise_from_not_ok_status\u001b[0m\u001b[0;34m(\u001b[0m\u001b[0me\u001b[0m\u001b[0;34m,\u001b[0m \u001b[0mname\u001b[0m\u001b[0;34m)\u001b[0m\u001b[0;34m\u001b[0m\u001b[0;34m\u001b[0m\u001b[0m\n\u001b[0m\u001b[1;32m     50\u001b[0m     \u001b[0;32mexcept\u001b[0m \u001b[0m_core\u001b[0m\u001b[0;34m.\u001b[0m\u001b[0m_FallbackException\u001b[0m\u001b[0;34m:\u001b[0m\u001b[0;34m\u001b[0m\u001b[0;34m\u001b[0m\u001b[0m\n\u001b[1;32m     51\u001b[0m       \u001b[0;32mpass\u001b[0m\u001b[0;34m\u001b[0m\u001b[0;34m\u001b[0m\u001b[0m\n",
            "\u001b[0;32m/usr/local/lib/python3.6/dist-packages/tensorflow/python/framework/ops.py\u001b[0m in \u001b[0;36mraise_from_not_ok_status\u001b[0;34m(e, name)\u001b[0m\n\u001b[1;32m   6860\u001b[0m   \u001b[0mmessage\u001b[0m \u001b[0;34m=\u001b[0m \u001b[0me\u001b[0m\u001b[0;34m.\u001b[0m\u001b[0mmessage\u001b[0m \u001b[0;34m+\u001b[0m \u001b[0;34m(\u001b[0m\u001b[0;34m\" name: \"\u001b[0m \u001b[0;34m+\u001b[0m \u001b[0mname\u001b[0m \u001b[0;32mif\u001b[0m \u001b[0mname\u001b[0m \u001b[0;32mis\u001b[0m \u001b[0;32mnot\u001b[0m \u001b[0;32mNone\u001b[0m \u001b[0;32melse\u001b[0m \u001b[0;34m\"\"\u001b[0m\u001b[0;34m)\u001b[0m\u001b[0;34m\u001b[0m\u001b[0;34m\u001b[0m\u001b[0m\n\u001b[1;32m   6861\u001b[0m   \u001b[0;31m# pylint: disable=protected-access\u001b[0m\u001b[0;34m\u001b[0m\u001b[0;34m\u001b[0m\u001b[0;34m\u001b[0m\u001b[0m\n\u001b[0;32m-> 6862\u001b[0;31m   \u001b[0msix\u001b[0m\u001b[0;34m.\u001b[0m\u001b[0mraise_from\u001b[0m\u001b[0;34m(\u001b[0m\u001b[0mcore\u001b[0m\u001b[0;34m.\u001b[0m\u001b[0m_status_to_exception\u001b[0m\u001b[0;34m(\u001b[0m\u001b[0me\u001b[0m\u001b[0;34m.\u001b[0m\u001b[0mcode\u001b[0m\u001b[0;34m,\u001b[0m \u001b[0mmessage\u001b[0m\u001b[0;34m)\u001b[0m\u001b[0;34m,\u001b[0m \u001b[0;32mNone\u001b[0m\u001b[0;34m)\u001b[0m\u001b[0;34m\u001b[0m\u001b[0;34m\u001b[0m\u001b[0m\n\u001b[0m\u001b[1;32m   6863\u001b[0m   \u001b[0;31m# pylint: enable=protected-access\u001b[0m\u001b[0;34m\u001b[0m\u001b[0;34m\u001b[0m\u001b[0;34m\u001b[0m\u001b[0m\n\u001b[1;32m   6864\u001b[0m \u001b[0;34m\u001b[0m\u001b[0m\n",
            "\u001b[0;32m/usr/local/lib/python3.6/dist-packages/six.py\u001b[0m in \u001b[0;36mraise_from\u001b[0;34m(value, from_value)\u001b[0m\n",
            "\u001b[0;31mUnimplementedError\u001b[0m: NotImplementedError: in user code:\n\n    <ipython-input-46-fed82987ab95>:201 get_adjacency_matrix  *\n        ret_arr.append(np.abs(arr - data_point))\n    /usr/local/lib/python3.6/dist-packages/tensorflow/python/framework/ops.py:855 __array__  **\n        \" a NumPy call, which is not supported\".format(self.name))\n\n    NotImplementedError: Cannot convert a symbolic Tensor (while/sub:0) to a numpy array. This error may indicate that you're trying to pass a Tensor to a NumPy call, which is not supported\n\nTraceback (most recent call last):\n\n  File \"/usr/local/lib/python3.6/dist-packages/tensorflow/python/ops/script_ops.py\", line 247, in __call__\n    return func(device, token, args)\n\n  File \"/usr/local/lib/python3.6/dist-packages/tensorflow/python/ops/script_ops.py\", line 135, in __call__\n    ret = self._func(*args)\n\n  File \"/usr/local/lib/python3.6/dist-packages/tensorflow/python/autograph/impl/api.py\", line 620, in wrapper\n    return func(*args, **kwargs)\n\n  File \"/usr/local/lib/python3.6/dist-packages/tensorflow/python/eager/def_function.py\", line 828, in __call__\n    result = self._call(*args, **kwds)\n\n  File \"/usr/local/lib/python3.6/dist-packages/tensorflow/python/eager/def_function.py\", line 871, in _call\n    self._initialize(args, kwds, add_initializers_to=initializers)\n\n  File \"/usr/local/lib/python3.6/dist-packages/tensorflow/python/eager/def_function.py\", line 726, in _initialize\n    *args, **kwds))\n\n  File \"/usr/local/lib/python3.6/dist-packages/tensorflow/python/eager/function.py\", line 2969, in _get_concrete_function_internal_garbage_collected\n    graph_function, _ = self._maybe_define_function(args, kwargs)\n\n  File \"/usr/local/lib/python3.6/dist-packages/tensorflow/python/eager/function.py\", line 3361, in _maybe_define_function\n    graph_function = self._create_graph_function(args, kwargs)\n\n  File \"/usr/local/lib/python3.6/dist-packages/tensorflow/python/eager/function.py\", line 3206, in _create_graph_function\n    capture_by_value=self._capture_by_value),\n\n  File \"/usr/local/lib/python3.6/dist-packages/tensorflow/python/framework/func_graph.py\", line 990, in func_graph_from_py_func\n    func_outputs = python_func(*func_args, **func_kwargs)\n\n  File \"/usr/local/lib/python3.6/dist-packages/tensorflow/python/eager/def_function.py\", line 634, in wrapped_fn\n    out = weak_wrapped_fn().__wrapped__(*args, **kwds)\n\n  File \"/usr/local/lib/python3.6/dist-packages/tensorflow/python/framework/func_graph.py\", line 977, in wrapper\n    raise e.ag_error_metadata.to_exception(e)\n\nNotImplementedError: in user code:\n\n    <ipython-input-46-fed82987ab95>:201 get_adjacency_matrix  *\n        ret_arr.append(np.abs(arr - data_point))\n    /usr/local/lib/python3.6/dist-packages/tensorflow/python/framework/ops.py:855 __array__  **\n        \" a NumPy call, which is not supported\".format(self.name))\n\n    NotImplementedError: Cannot convert a symbolic Tensor (while/sub:0) to a numpy array. This error may indicate that you're trying to pass a Tensor to a NumPy call, which is not supported\n\n\n [Op:EagerPyFunc]"
          ]
        }
      ]
    },
    {
      "cell_type": "code",
      "metadata": {
        "colab": {
          "base_uri": "https://localhost:8080/"
        },
        "id": "t4YnJhQQb1Bq",
        "outputId": "dea843c1-ea64-4ab5-cb33-4c23f1852ee1"
      },
      "source": [
        "import tensorflow as tf\n",
        "import numpy as np\n",
        "input = [1, 9, 2, 1, 0]\n",
        "\n",
        "a=tf.constant([input])\n",
        "b=tf.transpose(a)\n",
        "\n",
        "tf.matmul(b,a)\n",
        "\n",
        "ret_arr=[]\n",
        "flattened_unpacked = tf.unstack(tf.reshape(a, [-1]))\n",
        "for elem in flattened_unpacked:\n",
        "    ret_arr.append(np.abs(flattened_unpacked - elem)) # absolute distance\n",
        "x=tf.constant(ret_arr).numpy()\n",
        "\n",
        "# x = tf.compat.v1.placeholder(tf.float32)\n",
        "# m = tf.compat.v1.placeholder(tf.float32)\n",
        "\n",
        "y = tf.py_function(func=get_MST, inp=[x], Tout=tf.float32)\n",
        "y"
      ],
      "execution_count": 41,
      "outputs": [
        {
          "output_type": "execute_result",
          "data": {
            "text/plain": [
              "<tf.Tensor: shape=(5, 5), dtype=float32, numpy=\n",
              "array([[0., 0., 1., 0., 1.],\n",
              "       [0., 0., 0., 0., 0.],\n",
              "       [0., 7., 0., 0., 0.],\n",
              "       [0., 0., 0., 0., 0.],\n",
              "       [0., 0., 0., 1., 0.]], dtype=float32)>"
            ]
          },
          "metadata": {
            "tags": []
          },
          "execution_count": 41
        }
      ]
    },
    {
      "cell_type": "code",
      "metadata": {
        "id": "kCyKGdXkL1Yk"
      },
      "source": [
        "n=10\n",
        "tf.experimental.numpy.random.randint(low=0, high=n, size=n, dtype=int)"
      ],
      "execution_count": null,
      "outputs": []
    },
    {
      "cell_type": "code",
      "metadata": {
        "id": "XFMggNB9uc_p"
      },
      "source": [
        ""
      ],
      "execution_count": null,
      "outputs": []
    }
  ]
}