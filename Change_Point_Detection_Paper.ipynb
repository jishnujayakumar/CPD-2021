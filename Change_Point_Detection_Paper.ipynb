{
  "nbformat": 4,
  "nbformat_minor": 0,
  "metadata": {
    "colab": {
      "name": "Change-Point-Detection-Paper.ipynb",
      "provenance": [],
      "collapsed_sections": [],
      "authorship_tag": "ABX9TyMioWv4Sf8pjwjFJI6NETbe",
      "include_colab_link": true
    },
    "kernelspec": {
      "name": "python3",
      "display_name": "Python 3"
    },
    "accelerator": "GPU",
    "widgets": {
      "application/vnd.jupyter.widget-state+json": {
        "09c129c7689e495eb45574531f865b60": {
          "model_module": "@jupyter-widgets/controls",
          "model_name": "HBoxModel",
          "state": {
            "_view_name": "HBoxView",
            "_dom_classes": [],
            "_model_name": "HBoxModel",
            "_view_module": "@jupyter-widgets/controls",
            "_model_module_version": "1.5.0",
            "_view_count": null,
            "_view_module_version": "1.5.0",
            "box_style": "",
            "layout": "IPY_MODEL_13a208b3cccb421a8606dd0bbe6b435d",
            "_model_module": "@jupyter-widgets/controls",
            "children": [
              "IPY_MODEL_19d0a8a859854eed91b2827779143ab0",
              "IPY_MODEL_bb28b86d470f4a7d90552481778d8eed"
            ]
          }
        },
        "13a208b3cccb421a8606dd0bbe6b435d": {
          "model_module": "@jupyter-widgets/base",
          "model_name": "LayoutModel",
          "state": {
            "_view_name": "LayoutView",
            "grid_template_rows": null,
            "right": null,
            "justify_content": null,
            "_view_module": "@jupyter-widgets/base",
            "overflow": null,
            "_model_module_version": "1.2.0",
            "_view_count": null,
            "flex_flow": null,
            "width": null,
            "min_width": null,
            "border": null,
            "align_items": null,
            "bottom": null,
            "_model_module": "@jupyter-widgets/base",
            "top": null,
            "grid_column": null,
            "overflow_y": null,
            "overflow_x": null,
            "grid_auto_flow": null,
            "grid_area": null,
            "grid_template_columns": null,
            "flex": null,
            "_model_name": "LayoutModel",
            "justify_items": null,
            "grid_row": null,
            "max_height": null,
            "align_content": null,
            "visibility": null,
            "align_self": null,
            "height": null,
            "min_height": null,
            "padding": null,
            "grid_auto_rows": null,
            "grid_gap": null,
            "max_width": null,
            "order": null,
            "_view_module_version": "1.2.0",
            "grid_template_areas": null,
            "object_position": null,
            "object_fit": null,
            "grid_auto_columns": null,
            "margin": null,
            "display": null,
            "left": null
          }
        },
        "19d0a8a859854eed91b2827779143ab0": {
          "model_module": "@jupyter-widgets/controls",
          "model_name": "FloatProgressModel",
          "state": {
            "_view_name": "ProgressView",
            "style": "IPY_MODEL_bfc0c37f0ca2427a91adcf4c2cf11d9f",
            "_dom_classes": [],
            "description": "100%",
            "_model_name": "FloatProgressModel",
            "bar_style": "success",
            "max": 100,
            "_view_module": "@jupyter-widgets/controls",
            "_model_module_version": "1.5.0",
            "value": 100,
            "_view_count": null,
            "_view_module_version": "1.5.0",
            "orientation": "horizontal",
            "min": 0,
            "description_tooltip": null,
            "_model_module": "@jupyter-widgets/controls",
            "layout": "IPY_MODEL_40cd14e1c6864e29b6df2e3533ca8816"
          }
        },
        "bb28b86d470f4a7d90552481778d8eed": {
          "model_module": "@jupyter-widgets/controls",
          "model_name": "HTMLModel",
          "state": {
            "_view_name": "HTMLView",
            "style": "IPY_MODEL_655b6bbcb5ff4b51bd31267d78dc4aa8",
            "_dom_classes": [],
            "description": "",
            "_model_name": "HTMLModel",
            "placeholder": "​",
            "_view_module": "@jupyter-widgets/controls",
            "_model_module_version": "1.5.0",
            "value": " 100/100 [02:09&lt;00:00,  1.29s/it]",
            "_view_count": null,
            "_view_module_version": "1.5.0",
            "description_tooltip": null,
            "_model_module": "@jupyter-widgets/controls",
            "layout": "IPY_MODEL_1e9a2fdb2a39443eb76b8a2b9395843b"
          }
        },
        "bfc0c37f0ca2427a91adcf4c2cf11d9f": {
          "model_module": "@jupyter-widgets/controls",
          "model_name": "ProgressStyleModel",
          "state": {
            "_view_name": "StyleView",
            "_model_name": "ProgressStyleModel",
            "description_width": "initial",
            "_view_module": "@jupyter-widgets/base",
            "_model_module_version": "1.5.0",
            "_view_count": null,
            "_view_module_version": "1.2.0",
            "bar_color": null,
            "_model_module": "@jupyter-widgets/controls"
          }
        },
        "40cd14e1c6864e29b6df2e3533ca8816": {
          "model_module": "@jupyter-widgets/base",
          "model_name": "LayoutModel",
          "state": {
            "_view_name": "LayoutView",
            "grid_template_rows": null,
            "right": null,
            "justify_content": null,
            "_view_module": "@jupyter-widgets/base",
            "overflow": null,
            "_model_module_version": "1.2.0",
            "_view_count": null,
            "flex_flow": null,
            "width": null,
            "min_width": null,
            "border": null,
            "align_items": null,
            "bottom": null,
            "_model_module": "@jupyter-widgets/base",
            "top": null,
            "grid_column": null,
            "overflow_y": null,
            "overflow_x": null,
            "grid_auto_flow": null,
            "grid_area": null,
            "grid_template_columns": null,
            "flex": null,
            "_model_name": "LayoutModel",
            "justify_items": null,
            "grid_row": null,
            "max_height": null,
            "align_content": null,
            "visibility": null,
            "align_self": null,
            "height": null,
            "min_height": null,
            "padding": null,
            "grid_auto_rows": null,
            "grid_gap": null,
            "max_width": null,
            "order": null,
            "_view_module_version": "1.2.0",
            "grid_template_areas": null,
            "object_position": null,
            "object_fit": null,
            "grid_auto_columns": null,
            "margin": null,
            "display": null,
            "left": null
          }
        },
        "655b6bbcb5ff4b51bd31267d78dc4aa8": {
          "model_module": "@jupyter-widgets/controls",
          "model_name": "DescriptionStyleModel",
          "state": {
            "_view_name": "StyleView",
            "_model_name": "DescriptionStyleModel",
            "description_width": "",
            "_view_module": "@jupyter-widgets/base",
            "_model_module_version": "1.5.0",
            "_view_count": null,
            "_view_module_version": "1.2.0",
            "_model_module": "@jupyter-widgets/controls"
          }
        },
        "1e9a2fdb2a39443eb76b8a2b9395843b": {
          "model_module": "@jupyter-widgets/base",
          "model_name": "LayoutModel",
          "state": {
            "_view_name": "LayoutView",
            "grid_template_rows": null,
            "right": null,
            "justify_content": null,
            "_view_module": "@jupyter-widgets/base",
            "overflow": null,
            "_model_module_version": "1.2.0",
            "_view_count": null,
            "flex_flow": null,
            "width": null,
            "min_width": null,
            "border": null,
            "align_items": null,
            "bottom": null,
            "_model_module": "@jupyter-widgets/base",
            "top": null,
            "grid_column": null,
            "overflow_y": null,
            "overflow_x": null,
            "grid_auto_flow": null,
            "grid_area": null,
            "grid_template_columns": null,
            "flex": null,
            "_model_name": "LayoutModel",
            "justify_items": null,
            "grid_row": null,
            "max_height": null,
            "align_content": null,
            "visibility": null,
            "align_self": null,
            "height": null,
            "min_height": null,
            "padding": null,
            "grid_auto_rows": null,
            "grid_gap": null,
            "max_width": null,
            "order": null,
            "_view_module_version": "1.2.0",
            "grid_template_areas": null,
            "object_position": null,
            "object_fit": null,
            "grid_auto_columns": null,
            "margin": null,
            "display": null,
            "left": null
          }
        }
      }
    }
  },
  "cells": [
    {
      "cell_type": "markdown",
      "metadata": {
        "id": "view-in-github",
        "colab_type": "text"
      },
      "source": [
        "<a href=\"https://colab.research.google.com/github/jishnujayakumar/CPD-2021/blob/main/Change_Point_Detection_Paper.ipynb\" target=\"_parent\"><img src=\"https://colab.research.google.com/assets/colab-badge.svg\" alt=\"Open In Colab\"/></a>"
      ]
    },
    {
      "cell_type": "markdown",
      "metadata": {
        "id": "h6qN0xNeKAs_"
      },
      "source": [
        "**Helpful pointers**\n",
        "\n",
        "1.   https://mathinsight.org/definition/node_degree\n",
        "2.   cupy-cuda101==v9.0.0b1 - https://github.com/cupy/cupy/issues/4516\n",
        "\n",
        "Observations\n",
        "Numpy version takes 37.1 sec for 1 sampling process, CuPy version of the same takes 114 sec. Hence, going forward with numpy and numba.\n",
        "\n"
      ]
    },
    {
      "cell_type": "code",
      "metadata": {
        "colab": {
          "base_uri": "https://localhost:8080/"
        },
        "id": "lnRUzeYZiZyy",
        "outputId": "dae635f0-9e64-46a6-84d5-71a5927fd663"
      },
      "source": [
        "%pylab inline"
      ],
      "execution_count": 32,
      "outputs": [
        {
          "output_type": "stream",
          "text": [
            "Populating the interactive namespace from numpy and matplotlib\n"
          ],
          "name": "stdout"
        }
      ]
    },
    {
      "cell_type": "code",
      "metadata": {
        "colab": {
          "base_uri": "https://localhost:8080/",
          "height": 887
        },
        "id": "AWj8esvn_tSC",
        "outputId": "549a4dc3-9c00-47bf-ea9d-7e24ce9070ba"
      },
      "source": [
        "!pip install numpy numba tqdm tensorflow-gpu #dask"
      ],
      "execution_count": 33,
      "outputs": [
        {
          "output_type": "stream",
          "text": [
            "Requirement already satisfied: numpy in /usr/local/lib/python3.6/dist-packages (1.19.5)\n",
            "Requirement already satisfied: numba in /usr/local/lib/python3.6/dist-packages (0.51.2)\n",
            "Requirement already satisfied: tqdm in /usr/local/lib/python3.6/dist-packages (4.41.1)\n",
            "Collecting tensorflow-gpu\n",
            "\u001b[?25l  Downloading https://files.pythonhosted.org/packages/f0/6d/67169e8d8146f377bbfd71d6c108a0fce218411371ce41d440a7a5f5fb20/tensorflow_gpu-2.4.1-cp36-cp36m-manylinux2010_x86_64.whl (394.3MB)\n",
            "\u001b[K     |████████████████████████████████| 394.3MB 44kB/s \n",
            "\u001b[?25hRequirement already satisfied: llvmlite<0.35,>=0.34.0.dev0 in /usr/local/lib/python3.6/dist-packages (from numba) (0.34.0)\n",
            "Requirement already satisfied: setuptools in /usr/local/lib/python3.6/dist-packages (from numba) (53.0.0)\n",
            "Requirement already satisfied: h5py~=2.10.0 in /usr/local/lib/python3.6/dist-packages (from tensorflow-gpu) (2.10.0)\n",
            "Requirement already satisfied: flatbuffers~=1.12.0 in /usr/local/lib/python3.6/dist-packages (from tensorflow-gpu) (1.12)\n",
            "Requirement already satisfied: typing-extensions~=3.7.4 in /usr/local/lib/python3.6/dist-packages (from tensorflow-gpu) (3.7.4.3)\n",
            "Requirement already satisfied: protobuf>=3.9.2 in /usr/local/lib/python3.6/dist-packages (from tensorflow-gpu) (3.12.4)\n",
            "Requirement already satisfied: wheel~=0.35 in /usr/local/lib/python3.6/dist-packages (from tensorflow-gpu) (0.36.2)\n",
            "Requirement already satisfied: gast==0.3.3 in /usr/local/lib/python3.6/dist-packages (from tensorflow-gpu) (0.3.3)\n",
            "Requirement already satisfied: tensorflow-estimator<2.5.0,>=2.4.0 in /usr/local/lib/python3.6/dist-packages (from tensorflow-gpu) (2.4.0)\n",
            "Requirement already satisfied: keras-preprocessing~=1.1.2 in /usr/local/lib/python3.6/dist-packages (from tensorflow-gpu) (1.1.2)\n",
            "Requirement already satisfied: termcolor~=1.1.0 in /usr/local/lib/python3.6/dist-packages (from tensorflow-gpu) (1.1.0)\n",
            "Requirement already satisfied: six~=1.15.0 in /usr/local/lib/python3.6/dist-packages (from tensorflow-gpu) (1.15.0)\n",
            "Requirement already satisfied: tensorboard~=2.4 in /usr/local/lib/python3.6/dist-packages (from tensorflow-gpu) (2.4.1)\n",
            "Requirement already satisfied: absl-py~=0.10 in /usr/local/lib/python3.6/dist-packages (from tensorflow-gpu) (0.10.0)\n",
            "Requirement already satisfied: grpcio~=1.32.0 in /usr/local/lib/python3.6/dist-packages (from tensorflow-gpu) (1.32.0)\n",
            "Requirement already satisfied: astunparse~=1.6.3 in /usr/local/lib/python3.6/dist-packages (from tensorflow-gpu) (1.6.3)\n",
            "Requirement already satisfied: google-pasta~=0.2 in /usr/local/lib/python3.6/dist-packages (from tensorflow-gpu) (0.2.0)\n",
            "Requirement already satisfied: wrapt~=1.12.1 in /usr/local/lib/python3.6/dist-packages (from tensorflow-gpu) (1.12.1)\n",
            "Requirement already satisfied: opt-einsum~=3.3.0 in /usr/local/lib/python3.6/dist-packages (from tensorflow-gpu) (3.3.0)\n",
            "Requirement already satisfied: google-auth-oauthlib<0.5,>=0.4.1 in /usr/local/lib/python3.6/dist-packages (from tensorboard~=2.4->tensorflow-gpu) (0.4.2)\n",
            "Requirement already satisfied: google-auth<2,>=1.6.3 in /usr/local/lib/python3.6/dist-packages (from tensorboard~=2.4->tensorflow-gpu) (1.24.0)\n",
            "Requirement already satisfied: markdown>=2.6.8 in /usr/local/lib/python3.6/dist-packages (from tensorboard~=2.4->tensorflow-gpu) (3.3.3)\n",
            "Requirement already satisfied: tensorboard-plugin-wit>=1.6.0 in /usr/local/lib/python3.6/dist-packages (from tensorboard~=2.4->tensorflow-gpu) (1.8.0)\n",
            "Requirement already satisfied: requests<3,>=2.21.0 in /usr/local/lib/python3.6/dist-packages (from tensorboard~=2.4->tensorflow-gpu) (2.23.0)\n",
            "Requirement already satisfied: werkzeug>=0.11.15 in /usr/local/lib/python3.6/dist-packages (from tensorboard~=2.4->tensorflow-gpu) (1.0.1)\n",
            "Requirement already satisfied: requests-oauthlib>=0.7.0 in /usr/local/lib/python3.6/dist-packages (from google-auth-oauthlib<0.5,>=0.4.1->tensorboard~=2.4->tensorflow-gpu) (1.3.0)\n",
            "Requirement already satisfied: cachetools<5.0,>=2.0.0 in /usr/local/lib/python3.6/dist-packages (from google-auth<2,>=1.6.3->tensorboard~=2.4->tensorflow-gpu) (4.2.1)\n",
            "Requirement already satisfied: pyasn1-modules>=0.2.1 in /usr/local/lib/python3.6/dist-packages (from google-auth<2,>=1.6.3->tensorboard~=2.4->tensorflow-gpu) (0.2.8)\n",
            "Requirement already satisfied: rsa<5,>=3.1.4; python_version >= \"3.6\" in /usr/local/lib/python3.6/dist-packages (from google-auth<2,>=1.6.3->tensorboard~=2.4->tensorflow-gpu) (4.7)\n",
            "Requirement already satisfied: importlib-metadata; python_version < \"3.8\" in /usr/local/lib/python3.6/dist-packages (from markdown>=2.6.8->tensorboard~=2.4->tensorflow-gpu) (3.4.0)\n",
            "Requirement already satisfied: chardet<4,>=3.0.2 in /usr/local/lib/python3.6/dist-packages (from requests<3,>=2.21.0->tensorboard~=2.4->tensorflow-gpu) (3.0.4)\n",
            "Requirement already satisfied: idna<3,>=2.5 in /usr/local/lib/python3.6/dist-packages (from requests<3,>=2.21.0->tensorboard~=2.4->tensorflow-gpu) (2.10)\n",
            "Requirement already satisfied: urllib3!=1.25.0,!=1.25.1,<1.26,>=1.21.1 in /usr/local/lib/python3.6/dist-packages (from requests<3,>=2.21.0->tensorboard~=2.4->tensorflow-gpu) (1.24.3)\n",
            "Requirement already satisfied: certifi>=2017.4.17 in /usr/local/lib/python3.6/dist-packages (from requests<3,>=2.21.0->tensorboard~=2.4->tensorflow-gpu) (2020.12.5)\n",
            "Requirement already satisfied: oauthlib>=3.0.0 in /usr/local/lib/python3.6/dist-packages (from requests-oauthlib>=0.7.0->google-auth-oauthlib<0.5,>=0.4.1->tensorboard~=2.4->tensorflow-gpu) (3.1.0)\n",
            "Requirement already satisfied: pyasn1<0.5.0,>=0.4.6 in /usr/local/lib/python3.6/dist-packages (from pyasn1-modules>=0.2.1->google-auth<2,>=1.6.3->tensorboard~=2.4->tensorflow-gpu) (0.4.8)\n",
            "Requirement already satisfied: zipp>=0.5 in /usr/local/lib/python3.6/dist-packages (from importlib-metadata; python_version < \"3.8\"->markdown>=2.6.8->tensorboard~=2.4->tensorflow-gpu) (3.4.0)\n",
            "Installing collected packages: tensorflow-gpu\n",
            "Successfully installed tensorflow-gpu-2.4.1\n"
          ],
          "name": "stdout"
        },
        {
          "output_type": "display_data",
          "data": {
            "application/vnd.colab-display-data+json": {
              "pip_warning": {
                "packages": [
                  "tensorflow"
                ]
              }
            }
          },
          "metadata": {
            "tags": []
          }
        }
      ]
    },
    {
      "cell_type": "code",
      "metadata": {
        "colab": {
          "base_uri": "https://localhost:8080/"
        },
        "id": "IQNeC_mlH9e8",
        "outputId": "9ad939ef-72f6-4fdb-b82f-6fbf27de5247"
      },
      "source": [
        "!nvcc --version"
      ],
      "execution_count": 1,
      "outputs": [
        {
          "output_type": "stream",
          "text": [
            "nvcc: NVIDIA (R) Cuda compiler driver\n",
            "Copyright (c) 2005-2019 NVIDIA Corporation\n",
            "Built on Sun_Jul_28_19:07:16_PDT_2019\n",
            "Cuda compilation tools, release 10.1, V10.1.243\n"
          ],
          "name": "stdout"
        }
      ]
    },
    {
      "cell_type": "code",
      "metadata": {
        "colab": {
          "base_uri": "https://localhost:8080/"
        },
        "id": "lFWbbtbmD6Bz",
        "outputId": "1c314b41-bd3e-466c-f577-a267df98b1d4"
      },
      "source": [
        "!nvidia-smi"
      ],
      "execution_count": 2,
      "outputs": [
        {
          "output_type": "stream",
          "text": [
            "Fri Feb  5 15:48:17 2021       \n",
            "+-----------------------------------------------------------------------------+\n",
            "| NVIDIA-SMI 460.39       Driver Version: 418.67       CUDA Version: 10.1     |\n",
            "|-------------------------------+----------------------+----------------------+\n",
            "| GPU  Name        Persistence-M| Bus-Id        Disp.A | Volatile Uncorr. ECC |\n",
            "| Fan  Temp  Perf  Pwr:Usage/Cap|         Memory-Usage | GPU-Util  Compute M. |\n",
            "|                               |                      |               MIG M. |\n",
            "|===============================+======================+======================|\n",
            "|   0  Tesla T4            Off  | 00000000:00:04.0 Off |                    0 |\n",
            "| N/A   45C    P8     9W /  70W |      0MiB / 15079MiB |      0%      Default |\n",
            "|                               |                      |                 ERR! |\n",
            "+-------------------------------+----------------------+----------------------+\n",
            "                                                                               \n",
            "+-----------------------------------------------------------------------------+\n",
            "| Processes:                                                                  |\n",
            "|  GPU   GI   CI        PID   Type   Process name                  GPU Memory |\n",
            "|        ID   ID                                                   Usage      |\n",
            "|=============================================================================|\n",
            "|  No running processes found                                                 |\n",
            "+-----------------------------------------------------------------------------+\n"
          ],
          "name": "stdout"
        }
      ]
    },
    {
      "cell_type": "code",
      "metadata": {
        "id": "OiKZg3R_s-t5"
      },
      "source": [
        "# Import requried packages\n",
        "import numpy as np\n",
        "\n",
        "# import cupy as np\n",
        "# import numpy as npy\n",
        "\n",
        "from tqdm import tqdm_notebook as tqdm\n",
        "\n",
        "import dask # to allow parallel computation\n",
        "\n",
        "import scipy\n",
        "from scipy.stats import norm\n",
        "from scipy.sparse import csr_matrix\n",
        "from scipy.sparse.csgraph import minimum_spanning_tree\n",
        "\n",
        "from numba import jit, njit, prange, vectorize, float64\n",
        "\n",
        "import warnings \n",
        "warnings.filterwarnings('ignore')\n",
        "# warnings.resetwarnings() # Uncomment to turn on wanrings\n",
        "\n",
        "import tensorflow as tf\n",
        "tf.autograph.set_verbosity(0)"
      ],
      "execution_count": 3,
      "outputs": []
    },
    {
      "cell_type": "code",
      "metadata": {
        "id": "Ey9kgcLFj_EX"
      },
      "source": [
        "# TODO: create a new exception class for dist_not_found_error\n",
        "def raise_dist_not_found_error(dist_name):\n",
        "  raise Exception(\"Incorrect distribution name\")\n",
        "\n",
        "# Sample data points based on a particular distribution\n",
        "def sample_data(dist_name, n_samples):\n",
        "  # ADD more distributions as per need\n",
        "  if dist_name == \"normal\": \n",
        "    return np.random.normal(500, 20, n_samples)\n",
        "  else:\n",
        "    raise_dist_not_found_error(dist_name)\n",
        "\n",
        "def p1(t, n):\n",
        "  return (2.0 * t * (n-t)) / (n * (n-1))\n",
        "\n",
        "def p2(t, n):\n",
        "  return (4.0 * t * (t-1) * (n-t) * (n-t-1)) / (n * (n-1) * (n-2) * (n-3))\n",
        "\n",
        "# Expectation of RG(t)\n",
        "def E_RG(t, adj_mat):\n",
        "  n = get_num_vertices(adj_mat)\n",
        "  return p1(t, n) * get_num_edges(adj_mat)\n",
        "\n",
        "# Variance of RG(t)\n",
        "def Var_RG(t, adj_mat):\n",
        "  n = get_num_vertices(adj_mat)\n",
        "  p1t = p1(t, n)\n",
        "  p2t = p2(t, n)\n",
        "  G = get_num_edges(adj_mat)\n",
        "  first_term = p2t * G\n",
        "\n",
        "  Gi = 0\n",
        "\n",
        "  # TODO: Vectorize this by Gi=np.apply_along_axis(get_node_degree, 1, adj_mat) is very slow\n",
        "  for node_index in prange(n):\n",
        "    Gi += get_node_degree(adj_mat, node_index)\n",
        "\n",
        "  # Gi=np.apply_along_axis(np.count_nonzero, 1, adj_mat) #very slow\n",
        "\n",
        "  second_term = ((0.5* p1t) - p2t) * np.sum(Gi**2)\n",
        "  third_term = ( p2t - (p1t**2) ) * (G**2)\n",
        "  return first_term + second_term + third_term\n",
        "\n",
        "# Number of edges in graph: G => adj_mat\n",
        "def get_total_edges(adj_mat):\n",
        "  return np.count_nonzero(adj_mat)/2 # for undirected graph\n",
        "\n",
        "def get_num_edges(adj_mat):\n",
        "  # For sub graph\n",
        "  return np.count_nonzero(adj_mat)\n",
        "\n",
        "# Degree of node i\n",
        "def get_node_degree(adj_mat, node_index):\n",
        "  return np.count_nonzero(adj_mat[node_index])\n",
        "\n",
        "def get_num_vertices(adj_mat):\n",
        "  return adj_mat.shape[0]\n",
        "\n",
        "# R G (t)\n",
        "# is the number of edges in the graph G that connect observations from the “past”\n",
        "# (≤ t) to the “future” (> t).\n",
        "\n",
        "def RG(t, adj_mat):\n",
        "  # TODO: complete this from ref paper\n",
        "  # Get the sub graph/adj_matrix consisting of [:t+1,t:]\n",
        "  return get_num_edges(adj_mat[:t,t:])\n",
        "\n",
        "# Calculate zscore\n",
        "def zscore(arr, mean, var):\n",
        "  return ( (arr - mean) / var )\n",
        "\n",
        "@tf.function\n",
        "def run_bootstrap_graph(Dn, n):\n",
        "  result = tf.Variable(np.zeros([n], dtype=np.float64))\n",
        "  i = tf.constant(0, dtype=tf.int32)\n",
        "  while tf.less(i, 10):\n",
        "    result[i].assign(bootstrap_tf(Dn, n))  # Performance may require tuning here.\n",
        "    i += 1\n",
        "  return result\n",
        "\n",
        "# Change point detection mechanism\n",
        "def cpd(D_N0, bootstrap_runs):\n",
        "  Dn = D_N0\n",
        "  N0 = D_N0.size\n",
        "  while True:\n",
        "    # Draw new observation Dx\n",
        "    Dx = sample_data(dist, 1)[0]\n",
        "    \n",
        "    # Adding new observation to existing Data\n",
        "    Dn = np.append(Dn , Dx) \n",
        "    \n",
        "    #Number of observation in Dn\n",
        "    n = Dn.size\n",
        "\n",
        "    # print(f\"\\r {n}\")\n",
        "\n",
        "    # Get scan statistic\n",
        "    # Z = get_scan_statistics(Dn, n, N0 , n)\n",
        "    Z = tf.numpy_function(func=get_scan_statistics, inp=[Dn, n, N0 , n], Tout=tf.float32)\n",
        "\n",
        "\n",
        "    # ================================ RUN GRAPH ====================================\n",
        "    # result = tf.Variable(np.zeros([bootstrap_runs], dtype=np.float16))\n",
        "\n",
        "    # @tf.function(experimental_relax_shapes=True)\n",
        "    # def run_graph():\n",
        "    #   i = tf.constant(0, dtype=tf.int32)\n",
        "    #   while tf.less(i, bootstrap_runs):\n",
        "    #     result[i].assign(bootstrap_tf(Dn))  # Performance may require tuning here.\n",
        "    #     i += 1\n",
        "\n",
        "    # run_graph()\n",
        "    # result = result.read_value()\n",
        "    # proto_tensor = tf.make_tensor_proto(result)  # convert `tensor result` to a proto tensor\n",
        "    # result = tf.make_ndarray(proto_tensor) \n",
        "    # # print(result, result.size)\n",
        "    # critZ = np.sort(result)[-1]\n",
        "    # ===============================================================================\n",
        "\n",
        "    result = run_bootstrap_graph(Dn, n)\n",
        "    result = result.read_value()\n",
        "    # proto_tensor = tf.make_tensor_proto(result)  # convert `tensor result` to a proto tensor\n",
        "    # result = tf.make_ndarray(proto_tensor) \n",
        "    # print(result, result.size)\n",
        "    critZ = np.sort(result)[-1]\n",
        "\n",
        "    # Stopping rule\n",
        "    if not (Z < critZ):\n",
        "      # print(Z >= critZ)\n",
        "      # print(f\"Z:{Z}, \\n critZ:{critZ}\")\n",
        "      break\n",
        "    \n",
        "  return Dn.size\n",
        "\n",
        "# TF tensor to numpy array\n",
        "def t2np_array(tf_tensor):\n",
        "  # Converting Tensor to TensorProto \n",
        "  proto = tf.make_tensor_proto(tf_tensor) \n",
        "  # Generating numpy array \n",
        "  return tf.make_ndarray(proto) \n",
        "\n",
        "# Get adjacency matrix\n",
        "def get_adjacency_matrix(arr):\n",
        "  # TODO: check this\n",
        "  # Calculate pairwise distance\n",
        "  a = tf.zeros([0, tf.shape(arr)[0]])\n",
        "  ret_arr=[]\n",
        "\n",
        "  for data_point in arr:\n",
        "    ret_arr.append(np.abs(arr - data_point))  \n",
        "\n",
        "  return np.array(ret_arr)\n",
        "\n",
        "  # flattened_unpacked = tf.unstack(tf.reshape(arr, [-1]))\n",
        "  # for elem in flattened_unpacked:\n",
        "  #     ret_arr.append(tf.abs(flattened_unpacked - elem)) # absolute distance\n",
        "  # return tf.constant(ret_arr).numpy()\n",
        "\n",
        "def call_py(func_name, input):\n",
        "  return tf.numpy_function(func=func_name, inp=[input], Tout=tf.float32)\n",
        "\n",
        "def get_MST(adj_mat):\n",
        "  \"\"\"\n",
        "  Purpose: Generate Minimum Spanning Tree (MST)\n",
        "  Input: Graph adjacency matrix\n",
        "  Output: MST\n",
        "  \"\"\"\n",
        "  mst = minimum_spanning_tree(adj_mat)\n",
        "\n",
        "  return mst.toarray()\n",
        "\n",
        "# TF\n",
        "def resample(D, n):\n",
        "  sampled_indices=tf.experimental.numpy.random.randint(low=0, high=n, size=n, dtype=np.int32)\n",
        "  return tf.experimental.numpy.take(D, sampled_indices)\n",
        "\n",
        "#TF\n",
        "def bootstrap_tf(Dn, n):\n",
        "  # print(f\"\\ri:{i}\")\n",
        "\n",
        "\n",
        "  # Dn = t2np_array(Dn)\n",
        "  Dnew = resample(Dn, n)\n",
        "\n",
        "  # n=tf.shape(Dnew)\n",
        "  # Calculate Scan Statisics for resampled Data\n",
        "\n",
        "  res = tf.numpy_function(func=get_scan_statistics, inp=[Dnew , n, 2 , n], Tout=tf.float32)\n",
        "  return res\n",
        "\n",
        "# Calculate Scan Statistics value for given Dn\n",
        "def get_scan_statistics(Dn, n, n0, n1):\n",
        "  \n",
        "  # print(f\"Dn:{Dn}\")\n",
        "\n",
        "  pdist_mat = tf.numpy_function(func=get_adjacency_matrix, inp=[Dn], Tout=tf.float32)\n",
        "\n",
        "  # print(f\"pdist: {pdist_mat}\")\n",
        "\n",
        "  #Make this faster by using numba on GPU\n",
        "  mst = tf.numpy_function(func=get_MST, inp=[pdist_mat], Tout=tf.float32)\n",
        "\n",
        "  # print(f\"ffff: {mst}\")\n",
        "\n",
        "  # mst = np.asarray(get_MST(pdist_mat)) # Move to GPU from host\n",
        "\n",
        "  # print(mst.get_shape())\n",
        "\n",
        "  # calculate zcores for RG\n",
        "\n",
        "  RG_vec = []\n",
        "  mean_vec = []\n",
        "  var_vec = []\n",
        "\n",
        "  for t in np.array(range(10))+1:\n",
        "    rg = tf.numpy_function(func=RG, inp=[t, mst], Tout=tf.float32)\n",
        "    mean = tf.numpy_function(func=E_RG, inp=[t, mst], Tout=tf.float32)\n",
        "    var = tf.numpy_function(func=Var_RG, inp=[t, mst], Tout=tf.float32)\n",
        "\n",
        "    RG_vec.append(rg)\n",
        "    mean_vec.append(mean)\n",
        "    var_vec.append(var)\n",
        "\n",
        "  zRG = tf.numpy_function(func=zscore, inp=[RG_vec,mean_vec,var_vec], Tout=tf.float32)\n",
        "\n",
        "  # Maximum of all Z values between n0 and n1\n",
        "  return tf.constant(tf.experimental.numpy.amax(zRG)).numpy()\n",
        "\n",
        "def simulate(dist, num_simulations):\n",
        "  Dn_sizes = []\n",
        "  initial_samples = 150\n",
        "  bootstrap_runs = 10**4\n",
        "  for _ in tqdm(prange(num_simulations)):\n",
        "    # Simulation\n",
        "    X = sample_data(dist, initial_samples)\n",
        "    Dn_size = cpd(X, bootstrap_runs)\n",
        "    print(Dn_sizes, Dn_size)\n",
        "    Dn_sizes.append(Dn_size)\n",
        "  return  np.array(Dn_sizes)"
      ],
      "execution_count": 166,
      "outputs": []
    },
    {
      "cell_type": "code",
      "metadata": {
        "colab": {
          "base_uri": "https://localhost:8080/",
          "height": 83,
          "referenced_widgets": [
            "09c129c7689e495eb45574531f865b60",
            "13a208b3cccb421a8606dd0bbe6b435d",
            "19d0a8a859854eed91b2827779143ab0",
            "bb28b86d470f4a7d90552481778d8eed",
            "bfc0c37f0ca2427a91adcf4c2cf11d9f",
            "40cd14e1c6864e29b6df2e3533ca8816",
            "655b6bbcb5ff4b51bd31267d78dc4aa8",
            "1e9a2fdb2a39443eb76b8a2b9395843b"
          ]
        },
        "id": "lP4SDMrW_efm",
        "outputId": "03c2c386-7a9b-4ebb-c8ec-4b702f257d98"
      },
      "source": [
        "# Select seed value\n",
        "seed_value=1\n",
        " \n",
        "# Set seed for random number generation\n",
        "np.random.seed(seed_value) \n",
        "tf.config.run_functions_eagerly(True)\n",
        "\n",
        "# Test on normal distribution for now\n",
        "dist=\"normal\"\n",
        " \n",
        "\n",
        "# %timeit Dn_sizes = simulate(dist, 100) # Not working, loop continues after completion\n",
        " \n",
        "# Method-2\n",
        "Dn_sizes = []\n",
        "initial_samples = 150\n",
        "num_simulations = 50*100\n",
        "bootstrap_runs = 10**4\n",
        "\n",
        "for _ in tqdm(range(num_simulations)):\n",
        "  # Simulation\n",
        "  X = sample_data(dist, initial_samples)\n",
        "\n",
        "  Dn_size = cpd(X, bootstrap_runs)\n",
        "  Dn_sizes.append(Dn_size)\n",
        "\n",
        "result = np.array(Dn_sizes)\n",
        "\n",
        "num_simulations, np.amax(result), np.mean(result), np.sqrt(np.var(result))"
      ],
      "execution_count": 171,
      "outputs": [
        {
          "output_type": "display_data",
          "data": {
            "application/vnd.jupyter.widget-view+json": {
              "model_id": "09c129c7689e495eb45574531f865b60",
              "version_minor": 0,
              "version_major": 2
            },
            "text/plain": [
              "HBox(children=(FloatProgress(value=0.0), HTML(value='')))"
            ]
          },
          "metadata": {
            "tags": []
          }
        },
        {
          "output_type": "stream",
          "text": [
            "\n"
          ],
          "name": "stdout"
        },
        {
          "output_type": "execute_result",
          "data": {
            "text/plain": [
              "(196, 162.28, 10.152910912639783)"
            ]
          },
          "metadata": {
            "tags": []
          },
          "execution_count": 171
        }
      ]
    }
  ]
}